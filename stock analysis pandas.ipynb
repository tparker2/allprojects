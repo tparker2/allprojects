{
 "cells": [
  {
   "cell_type": "markdown",
   "metadata": {},
   "source": [
    "# Analysis of Daily Stock Price Data\n",
    "\n",
    "## Column definitions:\n",
    "- Date - specifies trading date\n",
    "- Open - opening price\n",
    "- High - maximum price during the day\n",
    "- Low - minimum price during the day\n",
    "- Close - close price adjusted for splits\n",
    "- Adj Close - adjusted close price adjusted for both dividends and splits.\n",
    "- Volume - the number of shares that changed hands during a given day\n",
    "- Change % - the percentage change between Open and Adj Close"
   ]
  },
  {
   "cell_type": "code",
   "execution_count": 7,
   "metadata": {
    "inputHidden": false,
    "outputHidden": false
   },
   "outputs": [],
   "source": [
    "import pandas as pd"
   ]
  },
  {
   "cell_type": "code",
   "execution_count": 8,
   "metadata": {},
   "outputs": [],
   "source": [
    "df = pd.read_csv('C:/Users/AAPL.csv')\n"
   ]
  },
  {
   "cell_type": "markdown",
   "metadata": {},
   "source": [
    "Some additional data columns were added, calculated from the raw data. "
   ]
  },
  {
   "cell_type": "code",
   "execution_count": 9,
   "metadata": {},
   "outputs": [],
   "source": [
    "df['Date'] = pd.to_datetime(df['Date'])\n",
    "df['Year'] = df['Date'].dt.year\n",
    "df['Month'] = df['Date'].dt.month\n",
    "df['Day'] = df['Date'].dt.day\n",
    "df['Weekday'] = df['Date'].dt.day_name()\n",
    "df['Change %'] = (df['Adj Close'].pct_change() * 100)"
   ]
  },
  {
   "cell_type": "markdown",
   "metadata": {},
   "source": [
    "To view the new dataframe I used the .head() function:"
   ]
  },
  {
   "cell_type": "code",
   "execution_count": 10,
   "metadata": {},
   "outputs": [
    {
     "data": {
      "text/html": [
       "<div>\n",
       "<style scoped>\n",
       "    .dataframe tbody tr th:only-of-type {\n",
       "        vertical-align: middle;\n",
       "    }\n",
       "\n",
       "    .dataframe tbody tr th {\n",
       "        vertical-align: top;\n",
       "    }\n",
       "\n",
       "    .dataframe thead th {\n",
       "        text-align: right;\n",
       "    }\n",
       "</style>\n",
       "<table border=\"1\" class=\"dataframe\">\n",
       "  <thead>\n",
       "    <tr style=\"text-align: right;\">\n",
       "      <th></th>\n",
       "      <th>Date</th>\n",
       "      <th>Open</th>\n",
       "      <th>High</th>\n",
       "      <th>Low</th>\n",
       "      <th>Close</th>\n",
       "      <th>Adj Close</th>\n",
       "      <th>Volume</th>\n",
       "      <th>Year</th>\n",
       "      <th>Month</th>\n",
       "      <th>Day</th>\n",
       "      <th>Weekday</th>\n",
       "      <th>Change %</th>\n",
       "    </tr>\n",
       "  </thead>\n",
       "  <tbody>\n",
       "    <tr>\n",
       "      <th>0</th>\n",
       "      <td>2015-06-30</td>\n",
       "      <td>125.570000</td>\n",
       "      <td>126.120003</td>\n",
       "      <td>124.860001</td>\n",
       "      <td>125.430000</td>\n",
       "      <td>115.597382</td>\n",
       "      <td>44370700</td>\n",
       "      <td>2015</td>\n",
       "      <td>6</td>\n",
       "      <td>30</td>\n",
       "      <td>Tuesday</td>\n",
       "      <td>NaN</td>\n",
       "    </tr>\n",
       "    <tr>\n",
       "      <th>1</th>\n",
       "      <td>2015-07-01</td>\n",
       "      <td>126.900002</td>\n",
       "      <td>126.940002</td>\n",
       "      <td>125.989998</td>\n",
       "      <td>126.599998</td>\n",
       "      <td>116.675667</td>\n",
       "      <td>30238800</td>\n",
       "      <td>2015</td>\n",
       "      <td>7</td>\n",
       "      <td>1</td>\n",
       "      <td>Wednesday</td>\n",
       "      <td>0.932794</td>\n",
       "    </tr>\n",
       "    <tr>\n",
       "      <th>2</th>\n",
       "      <td>2015-07-02</td>\n",
       "      <td>126.430000</td>\n",
       "      <td>126.690002</td>\n",
       "      <td>125.769997</td>\n",
       "      <td>126.440002</td>\n",
       "      <td>116.528198</td>\n",
       "      <td>27211000</td>\n",
       "      <td>2015</td>\n",
       "      <td>7</td>\n",
       "      <td>2</td>\n",
       "      <td>Thursday</td>\n",
       "      <td>-0.126392</td>\n",
       "    </tr>\n",
       "    <tr>\n",
       "      <th>3</th>\n",
       "      <td>2015-07-06</td>\n",
       "      <td>124.940002</td>\n",
       "      <td>126.230003</td>\n",
       "      <td>124.849998</td>\n",
       "      <td>126.000000</td>\n",
       "      <td>116.122704</td>\n",
       "      <td>28060400</td>\n",
       "      <td>2015</td>\n",
       "      <td>7</td>\n",
       "      <td>6</td>\n",
       "      <td>Monday</td>\n",
       "      <td>-0.347979</td>\n",
       "    </tr>\n",
       "    <tr>\n",
       "      <th>4</th>\n",
       "      <td>2015-07-07</td>\n",
       "      <td>125.889999</td>\n",
       "      <td>126.150002</td>\n",
       "      <td>123.769997</td>\n",
       "      <td>125.690002</td>\n",
       "      <td>115.837006</td>\n",
       "      <td>46946800</td>\n",
       "      <td>2015</td>\n",
       "      <td>7</td>\n",
       "      <td>7</td>\n",
       "      <td>Tuesday</td>\n",
       "      <td>-0.246031</td>\n",
       "    </tr>\n",
       "  </tbody>\n",
       "</table>\n",
       "</div>"
      ],
      "text/plain": [
       "        Date        Open        High         Low       Close   Adj Close  \\\n",
       "0 2015-06-30  125.570000  126.120003  124.860001  125.430000  115.597382   \n",
       "1 2015-07-01  126.900002  126.940002  125.989998  126.599998  116.675667   \n",
       "2 2015-07-02  126.430000  126.690002  125.769997  126.440002  116.528198   \n",
       "3 2015-07-06  124.940002  126.230003  124.849998  126.000000  116.122704   \n",
       "4 2015-07-07  125.889999  126.150002  123.769997  125.690002  115.837006   \n",
       "\n",
       "     Volume  Year  Month  Day    Weekday  Change %  \n",
       "0  44370700  2015      6   30    Tuesday       NaN  \n",
       "1  30238800  2015      7    1  Wednesday  0.932794  \n",
       "2  27211000  2015      7    2   Thursday -0.126392  \n",
       "3  28060400  2015      7    6     Monday -0.347979  \n",
       "4  46946800  2015      7    7    Tuesday -0.246031  "
      ]
     },
     "execution_count": 10,
     "metadata": {},
     "output_type": "execute_result"
    }
   ],
   "source": [
    "df.head()"
   ]
  },
  {
   "cell_type": "markdown",
   "metadata": {},
   "source": [
    "## Dataset statistics\n",
    "\n",
    "First, a variable `mean_adj_close` was created to show the mean of the values in the `Adj Close` column."
   ]
  },
  {
   "cell_type": "code",
   "execution_count": 11,
   "metadata": {},
   "outputs": [
    {
     "data": {
      "text/plain": [
       "167.04975667513898"
      ]
     },
     "execution_count": 11,
     "metadata": {},
     "output_type": "execute_result"
    }
   ],
   "source": [
    "mean_adj_close = df['Adj Close'].mean()\n",
    "mean_adj_close"
   ]
  },
  {
   "cell_type": "markdown",
   "metadata": {},
   "source": [
    "The minimum value of the 'Low' column was calculated and stored in variable called `min_low`"
   ]
  },
  {
   "cell_type": "code",
   "execution_count": 12,
   "metadata": {},
   "outputs": [
    {
     "data": {
      "text/plain": [
       "89.470001"
      ]
     },
     "execution_count": 12,
     "metadata": {},
     "output_type": "execute_result"
    }
   ],
   "source": [
    "min_low = df['Low'].min()\n",
    "min_low"
   ]
  },
  {
   "cell_type": "markdown",
   "metadata": {},
   "source": [
    "The maximum value of the 'High' column was calculated and stored in variable called `max_high`"
   ]
  },
  {
   "cell_type": "code",
   "execution_count": 13,
   "metadata": {},
   "outputs": [
    {
     "data": {
      "text/plain": [
       "372.380005"
      ]
     },
     "execution_count": 13,
     "metadata": {},
     "output_type": "execute_result"
    }
   ],
   "source": [
    "max_high = df['High'].max()\n",
    "max_high"
   ]
  },
  {
   "cell_type": "markdown",
   "metadata": {},
   "source": [
    "A new variable was created called `price_range`, this calculated the difference between `min_low` and `max_high`"
   ]
  },
  {
   "cell_type": "code",
   "execution_count": 14,
   "metadata": {},
   "outputs": [
    {
     "data": {
      "text/plain": [
       "282.91000399999996"
      ]
     },
     "execution_count": 14,
     "metadata": {},
     "output_type": "execute_result"
    }
   ],
   "source": [
    "price_range = max_high - min_low\n",
    "price_range"
   ]
  },
  {
   "cell_type": "markdown",
   "metadata": {},
   "source": [
    "To find out how many rows are in the dataframe, df.shape() was used and stored as a variable called `entries`"
   ]
  },
  {
   "cell_type": "code",
   "execution_count": 15,
   "metadata": {},
   "outputs": [
    {
     "data": {
      "text/plain": [
       "1259"
      ]
     },
     "execution_count": 15,
     "metadata": {},
     "output_type": "execute_result"
    }
   ],
   "source": [
    "entries = df.shape[0]\n",
    "entries"
   ]
  },
  {
   "cell_type": "markdown",
   "metadata": {},
   "source": [
    "A variable called `positive_days` was created to calculate how many days (i.e. number of rows) that `Change %` was greater than zero."
   ]
  },
  {
   "cell_type": "code",
   "execution_count": 18,
   "metadata": {},
   "outputs": [
    {
     "data": {
      "text/plain": [
       "671"
      ]
     },
     "execution_count": 18,
     "metadata": {},
     "output_type": "execute_result"
    }
   ],
   "source": [
    "positive_days = (df['Change %']>0).sum()\n",
    "\n",
    "positive_days"
   ]
  },
  {
   "cell_type": "markdown",
   "metadata": {},
   "source": [
    "To determine how many days (i.e. number of rows) has `Adj Close` been greater than the value in the final row, a variable called `days_higher` was created."
   ]
  },
  {
   "cell_type": "code",
   "execution_count": 19,
   "metadata": {},
   "outputs": [
    {
     "data": {
      "text/plain": [
       "2"
      ]
     },
     "execution_count": 19,
     "metadata": {},
     "output_type": "execute_result"
    }
   ],
   "source": [
    "final_row = (df['Adj Close'].iloc[-1])\n",
    "days_higher = (df['Adj Close']>final_row).sum()\n",
    "days_higher"
   ]
  },
  {
   "cell_type": "markdown",
   "metadata": {},
   "source": [
    "## Dataset sorting and filtering"
   ]
  },
  {
   "cell_type": "markdown",
   "metadata": {},
   "source": [
    "A copy of the dataframe called `df_2020` was created, which contains only rows where `Year == 2020`."
   ]
  },
  {
   "cell_type": "code",
   "execution_count": 21,
   "metadata": {
    "scrolled": true
   },
   "outputs": [
    {
     "data": {
      "text/html": [
       "<div>\n",
       "<style scoped>\n",
       "    .dataframe tbody tr th:only-of-type {\n",
       "        vertical-align: middle;\n",
       "    }\n",
       "\n",
       "    .dataframe tbody tr th {\n",
       "        vertical-align: top;\n",
       "    }\n",
       "\n",
       "    .dataframe thead th {\n",
       "        text-align: right;\n",
       "    }\n",
       "</style>\n",
       "<table border=\"1\" class=\"dataframe\">\n",
       "  <thead>\n",
       "    <tr style=\"text-align: right;\">\n",
       "      <th></th>\n",
       "      <th>Open</th>\n",
       "      <th>High</th>\n",
       "      <th>Low</th>\n",
       "      <th>Close</th>\n",
       "      <th>Adj Close</th>\n",
       "      <th>Volume</th>\n",
       "      <th>Year</th>\n",
       "      <th>Month</th>\n",
       "      <th>Day</th>\n",
       "      <th>Weekday</th>\n",
       "      <th>Change %</th>\n",
       "    </tr>\n",
       "    <tr>\n",
       "      <th>Date</th>\n",
       "      <th></th>\n",
       "      <th></th>\n",
       "      <th></th>\n",
       "      <th></th>\n",
       "      <th></th>\n",
       "      <th></th>\n",
       "      <th></th>\n",
       "      <th></th>\n",
       "      <th></th>\n",
       "      <th></th>\n",
       "      <th></th>\n",
       "    </tr>\n",
       "  </thead>\n",
       "  <tbody>\n",
       "    <tr>\n",
       "      <th>2020-01-02</th>\n",
       "      <td>296.239990</td>\n",
       "      <td>300.600006</td>\n",
       "      <td>295.190002</td>\n",
       "      <td>300.350006</td>\n",
       "      <td>298.829956</td>\n",
       "      <td>33870100</td>\n",
       "      <td>2020</td>\n",
       "      <td>1</td>\n",
       "      <td>2</td>\n",
       "      <td>Thursday</td>\n",
       "      <td>2.281644</td>\n",
       "    </tr>\n",
       "    <tr>\n",
       "      <th>2020-01-03</th>\n",
       "      <td>297.149994</td>\n",
       "      <td>300.579987</td>\n",
       "      <td>296.500000</td>\n",
       "      <td>297.429993</td>\n",
       "      <td>295.924713</td>\n",
       "      <td>36580700</td>\n",
       "      <td>2020</td>\n",
       "      <td>1</td>\n",
       "      <td>3</td>\n",
       "      <td>Friday</td>\n",
       "      <td>-0.972206</td>\n",
       "    </tr>\n",
       "    <tr>\n",
       "      <th>2020-01-06</th>\n",
       "      <td>293.790009</td>\n",
       "      <td>299.959991</td>\n",
       "      <td>292.750000</td>\n",
       "      <td>299.799988</td>\n",
       "      <td>298.282715</td>\n",
       "      <td>29596800</td>\n",
       "      <td>2020</td>\n",
       "      <td>1</td>\n",
       "      <td>6</td>\n",
       "      <td>Monday</td>\n",
       "      <td>0.796825</td>\n",
       "    </tr>\n",
       "    <tr>\n",
       "      <th>2020-01-07</th>\n",
       "      <td>299.839996</td>\n",
       "      <td>300.899994</td>\n",
       "      <td>297.480011</td>\n",
       "      <td>298.390015</td>\n",
       "      <td>296.879883</td>\n",
       "      <td>27218000</td>\n",
       "      <td>2020</td>\n",
       "      <td>1</td>\n",
       "      <td>7</td>\n",
       "      <td>Tuesday</td>\n",
       "      <td>-0.470303</td>\n",
       "    </tr>\n",
       "    <tr>\n",
       "      <th>2020-01-08</th>\n",
       "      <td>297.160004</td>\n",
       "      <td>304.440002</td>\n",
       "      <td>297.160004</td>\n",
       "      <td>303.190002</td>\n",
       "      <td>301.655548</td>\n",
       "      <td>33019800</td>\n",
       "      <td>2020</td>\n",
       "      <td>1</td>\n",
       "      <td>8</td>\n",
       "      <td>Wednesday</td>\n",
       "      <td>1.608619</td>\n",
       "    </tr>\n",
       "  </tbody>\n",
       "</table>\n",
       "</div>"
      ],
      "text/plain": [
       "                  Open        High         Low       Close   Adj Close  \\\n",
       "Date                                                                     \n",
       "2020-01-02  296.239990  300.600006  295.190002  300.350006  298.829956   \n",
       "2020-01-03  297.149994  300.579987  296.500000  297.429993  295.924713   \n",
       "2020-01-06  293.790009  299.959991  292.750000  299.799988  298.282715   \n",
       "2020-01-07  299.839996  300.899994  297.480011  298.390015  296.879883   \n",
       "2020-01-08  297.160004  304.440002  297.160004  303.190002  301.655548   \n",
       "\n",
       "              Volume  Year  Month  Day    Weekday  Change %  \n",
       "Date                                                         \n",
       "2020-01-02  33870100  2020      1    2   Thursday  2.281644  \n",
       "2020-01-03  36580700  2020      1    3     Friday -0.972206  \n",
       "2020-01-06  29596800  2020      1    6     Monday  0.796825  \n",
       "2020-01-07  27218000  2020      1    7    Tuesday -0.470303  \n",
       "2020-01-08  33019800  2020      1    8  Wednesday  1.608619  "
      ]
     },
     "execution_count": 21,
     "metadata": {},
     "output_type": "execute_result"
    }
   ],
   "source": [
    "df_year = df['Year'] == 2020\n",
    "df_2020 = df[df_year]\n",
    "df_2020.set_index('Date', inplace=True)\n",
    "df_2020.head()"
   ]
  },
  {
   "cell_type": "markdown",
   "metadata": {},
   "source": [
    "Still using the `df_2020` dataframe, the mean of `Change %` for entries where `Weekday == Monday`.\n",
    "This was stored as a value in the variable called `mean_change_mon_2020`."
   ]
  },
  {
   "cell_type": "code",
   "execution_count": 24,
   "metadata": {},
   "outputs": [
    {
     "data": {
      "text/plain": [
       "0.2918877852311579"
      ]
     },
     "execution_count": 24,
     "metadata": {},
     "output_type": "execute_result"
    }
   ],
   "source": [
    "mean_change_mon_2020 = df_2020[df_2020['Weekday'] == 'Monday']['Change %'].mean()\n",
    "mean_change_mon_2020"
   ]
  },
  {
   "cell_type": "markdown",
   "metadata": {},
   "source": [
    "The sum of the `Volume` column in `df_2020` for entries where `Month == 3` was calculated.  \n",
    "This was stored as a value in the variable called `total_volume_march_2020`."
   ]
  },
  {
   "cell_type": "code",
   "execution_count": 26,
   "metadata": {},
   "outputs": [
    {
     "data": {
      "text/plain": [
       "1570018100"
      ]
     },
     "execution_count": 26,
     "metadata": {},
     "output_type": "execute_result"
    }
   ],
   "source": [
    "total_volume_march_2020 = df_2020[df_2020['Month'] == 3]['Volume'].sum()\n",
    "total_volume_march_2020"
   ]
  },
  {
   "cell_type": "markdown",
   "metadata": {},
   "source": [
    "Still using `df_2020`, the timestamp for when `Adj Close` was the highest was determined.\n",
    "This was stored as a value in the variable called `year_high_timestamp`"
   ]
  },
  {
   "cell_type": "code",
   "execution_count": 27,
   "metadata": {},
   "outputs": [
    {
     "data": {
      "text/plain": [
       "Timestamp('2020-06-23 00:00:00')"
      ]
     },
     "execution_count": 27,
     "metadata": {},
     "output_type": "execute_result"
    }
   ],
   "source": [
    "year_high_timestamp = df_2020['Adj Close'].idxmax(axis = 0, skipna = True)\n",
    "year_high_timestamp"
   ]
  },
  {
   "cell_type": "markdown",
   "metadata": {},
   "source": [
    "A new dataframe `df_top_10` was created, containing the 10 entries from `df` with the highest positive `Change %` values."
   ]
  },
  {
   "cell_type": "code",
   "execution_count": 28,
   "metadata": {},
   "outputs": [
    {
     "data": {
      "text/html": [
       "<div>\n",
       "<style scoped>\n",
       "    .dataframe tbody tr th:only-of-type {\n",
       "        vertical-align: middle;\n",
       "    }\n",
       "\n",
       "    .dataframe tbody tr th {\n",
       "        vertical-align: top;\n",
       "    }\n",
       "\n",
       "    .dataframe thead th {\n",
       "        text-align: right;\n",
       "    }\n",
       "</style>\n",
       "<table border=\"1\" class=\"dataframe\">\n",
       "  <thead>\n",
       "    <tr style=\"text-align: right;\">\n",
       "      <th></th>\n",
       "      <th>Date</th>\n",
       "      <th>Open</th>\n",
       "      <th>High</th>\n",
       "      <th>Low</th>\n",
       "      <th>Close</th>\n",
       "      <th>Adj Close</th>\n",
       "      <th>Volume</th>\n",
       "      <th>Year</th>\n",
       "      <th>Month</th>\n",
       "      <th>Day</th>\n",
       "      <th>Weekday</th>\n",
       "      <th>Change %</th>\n",
       "    </tr>\n",
       "  </thead>\n",
       "  <tbody>\n",
       "    <tr>\n",
       "      <th>1184</th>\n",
       "      <td>2020-03-13</td>\n",
       "      <td>264.890015</td>\n",
       "      <td>279.920013</td>\n",
       "      <td>252.949997</td>\n",
       "      <td>277.970001</td>\n",
       "      <td>277.219574</td>\n",
       "      <td>92683000</td>\n",
       "      <td>2020</td>\n",
       "      <td>3</td>\n",
       "      <td>13</td>\n",
       "      <td>Friday</td>\n",
       "      <td>11.980825</td>\n",
       "    </tr>\n",
       "    <tr>\n",
       "      <th>1191</th>\n",
       "      <td>2020-03-24</td>\n",
       "      <td>236.360001</td>\n",
       "      <td>247.690002</td>\n",
       "      <td>234.300003</td>\n",
       "      <td>246.880005</td>\n",
       "      <td>246.213516</td>\n",
       "      <td>71882800</td>\n",
       "      <td>2020</td>\n",
       "      <td>3</td>\n",
       "      <td>24</td>\n",
       "      <td>Tuesday</td>\n",
       "      <td>10.032544</td>\n",
       "    </tr>\n",
       "    <tr>\n",
       "      <th>1175</th>\n",
       "      <td>2020-03-02</td>\n",
       "      <td>282.279999</td>\n",
       "      <td>301.440002</td>\n",
       "      <td>277.720001</td>\n",
       "      <td>298.809998</td>\n",
       "      <td>298.003296</td>\n",
       "      <td>85349300</td>\n",
       "      <td>2020</td>\n",
       "      <td>3</td>\n",
       "      <td>2</td>\n",
       "      <td>Monday</td>\n",
       "      <td>9.310065</td>\n",
       "    </tr>\n",
       "    <tr>\n",
       "      <th>1200</th>\n",
       "      <td>2020-04-06</td>\n",
       "      <td>250.899994</td>\n",
       "      <td>263.109985</td>\n",
       "      <td>249.380005</td>\n",
       "      <td>262.470001</td>\n",
       "      <td>261.761414</td>\n",
       "      <td>50455100</td>\n",
       "      <td>2020</td>\n",
       "      <td>4</td>\n",
       "      <td>6</td>\n",
       "      <td>Monday</td>\n",
       "      <td>8.723748</td>\n",
       "    </tr>\n",
       "    <tr>\n",
       "      <th>1181</th>\n",
       "      <td>2020-03-10</td>\n",
       "      <td>277.140015</td>\n",
       "      <td>286.440002</td>\n",
       "      <td>269.369995</td>\n",
       "      <td>285.339996</td>\n",
       "      <td>284.569672</td>\n",
       "      <td>71322500</td>\n",
       "      <td>2020</td>\n",
       "      <td>3</td>\n",
       "      <td>10</td>\n",
       "      <td>Tuesday</td>\n",
       "      <td>7.202155</td>\n",
       "    </tr>\n",
       "    <tr>\n",
       "      <th>879</th>\n",
       "      <td>2018-12-26</td>\n",
       "      <td>148.300003</td>\n",
       "      <td>157.229996</td>\n",
       "      <td>146.720001</td>\n",
       "      <td>157.169998</td>\n",
       "      <td>154.059814</td>\n",
       "      <td>58582500</td>\n",
       "      <td>2018</td>\n",
       "      <td>12</td>\n",
       "      <td>26</td>\n",
       "      <td>Wednesday</td>\n",
       "      <td>7.042139</td>\n",
       "    </tr>\n",
       "    <tr>\n",
       "      <th>902</th>\n",
       "      <td>2019-01-30</td>\n",
       "      <td>163.250000</td>\n",
       "      <td>166.149994</td>\n",
       "      <td>160.229996</td>\n",
       "      <td>165.250000</td>\n",
       "      <td>161.979935</td>\n",
       "      <td>61109800</td>\n",
       "      <td>2019</td>\n",
       "      <td>1</td>\n",
       "      <td>30</td>\n",
       "      <td>Wednesday</td>\n",
       "      <td>6.833477</td>\n",
       "    </tr>\n",
       "    <tr>\n",
       "      <th>271</th>\n",
       "      <td>2016-07-27</td>\n",
       "      <td>104.269997</td>\n",
       "      <td>104.349998</td>\n",
       "      <td>102.750000</td>\n",
       "      <td>102.949997</td>\n",
       "      <td>96.822357</td>\n",
       "      <td>92344800</td>\n",
       "      <td>2016</td>\n",
       "      <td>7</td>\n",
       "      <td>27</td>\n",
       "      <td>Wednesday</td>\n",
       "      <td>6.496310</td>\n",
       "    </tr>\n",
       "    <tr>\n",
       "      <th>401</th>\n",
       "      <td>2017-02-01</td>\n",
       "      <td>127.029999</td>\n",
       "      <td>130.490005</td>\n",
       "      <td>127.010002</td>\n",
       "      <td>128.750000</td>\n",
       "      <td>122.367752</td>\n",
       "      <td>111985000</td>\n",
       "      <td>2017</td>\n",
       "      <td>2</td>\n",
       "      <td>1</td>\n",
       "      <td>Wednesday</td>\n",
       "      <td>6.098075</td>\n",
       "    </tr>\n",
       "    <tr>\n",
       "      <th>778</th>\n",
       "      <td>2018-08-01</td>\n",
       "      <td>199.130005</td>\n",
       "      <td>201.759995</td>\n",
       "      <td>197.309998</td>\n",
       "      <td>201.500000</td>\n",
       "      <td>196.137955</td>\n",
       "      <td>67935700</td>\n",
       "      <td>2018</td>\n",
       "      <td>8</td>\n",
       "      <td>1</td>\n",
       "      <td>Wednesday</td>\n",
       "      <td>5.891019</td>\n",
       "    </tr>\n",
       "  </tbody>\n",
       "</table>\n",
       "</div>"
      ],
      "text/plain": [
       "           Date        Open        High         Low       Close   Adj Close  \\\n",
       "1184 2020-03-13  264.890015  279.920013  252.949997  277.970001  277.219574   \n",
       "1191 2020-03-24  236.360001  247.690002  234.300003  246.880005  246.213516   \n",
       "1175 2020-03-02  282.279999  301.440002  277.720001  298.809998  298.003296   \n",
       "1200 2020-04-06  250.899994  263.109985  249.380005  262.470001  261.761414   \n",
       "1181 2020-03-10  277.140015  286.440002  269.369995  285.339996  284.569672   \n",
       "879  2018-12-26  148.300003  157.229996  146.720001  157.169998  154.059814   \n",
       "902  2019-01-30  163.250000  166.149994  160.229996  165.250000  161.979935   \n",
       "271  2016-07-27  104.269997  104.349998  102.750000  102.949997   96.822357   \n",
       "401  2017-02-01  127.029999  130.490005  127.010002  128.750000  122.367752   \n",
       "778  2018-08-01  199.130005  201.759995  197.309998  201.500000  196.137955   \n",
       "\n",
       "         Volume  Year  Month  Day    Weekday   Change %  \n",
       "1184   92683000  2020      3   13     Friday  11.980825  \n",
       "1191   71882800  2020      3   24    Tuesday  10.032544  \n",
       "1175   85349300  2020      3    2     Monday   9.310065  \n",
       "1200   50455100  2020      4    6     Monday   8.723748  \n",
       "1181   71322500  2020      3   10    Tuesday   7.202155  \n",
       "879    58582500  2018     12   26  Wednesday   7.042139  \n",
       "902    61109800  2019      1   30  Wednesday   6.833477  \n",
       "271    92344800  2016      7   27  Wednesday   6.496310  \n",
       "401   111985000  2017      2    1  Wednesday   6.098075  \n",
       "778    67935700  2018      8    1  Wednesday   5.891019  "
      ]
     },
     "execution_count": 28,
     "metadata": {},
     "output_type": "execute_result"
    }
   ],
   "source": [
    "df_top_10 = df.copy().sort_values(by='Change %', ascending=False).head(10)\n",
    "df_top_10"
   ]
  },
  {
   "cell_type": "markdown",
   "metadata": {},
   "source": [
    "The variabled `top_10_not_mon` was created to determine how many entried in `df_top_10` were **not** on a Monday"
   ]
  },
  {
   "cell_type": "code",
   "execution_count": 30,
   "metadata": {},
   "outputs": [
    {
     "data": {
      "text/plain": [
       "8"
      ]
     },
     "execution_count": 30,
     "metadata": {},
     "output_type": "execute_result"
    }
   ],
   "source": [
    "top_10_not_mon = len(df_top_10[df_top_10['Weekday'] != 'Monday'])\n",
    "top_10_not_mon"
   ]
  },
  {
   "cell_type": "markdown",
   "metadata": {},
   "source": [
    "## Dataset manipulation"
   ]
  },
  {
   "cell_type": "markdown",
   "metadata": {},
   "source": [
    "A new dataframe called 'df_var' was created, which is the same as `df` but with the additional column `Variation`, equal to:\n",
    "\n",
    "((`High` - `Low`) / `Close`) * 100\n"
   ]
  },
  {
   "cell_type": "code",
   "execution_count": 32,
   "metadata": {
    "scrolled": true
   },
   "outputs": [
    {
     "data": {
      "text/html": [
       "<div>\n",
       "<style scoped>\n",
       "    .dataframe tbody tr th:only-of-type {\n",
       "        vertical-align: middle;\n",
       "    }\n",
       "\n",
       "    .dataframe tbody tr th {\n",
       "        vertical-align: top;\n",
       "    }\n",
       "\n",
       "    .dataframe thead th {\n",
       "        text-align: right;\n",
       "    }\n",
       "</style>\n",
       "<table border=\"1\" class=\"dataframe\">\n",
       "  <thead>\n",
       "    <tr style=\"text-align: right;\">\n",
       "      <th></th>\n",
       "      <th>Date</th>\n",
       "      <th>Open</th>\n",
       "      <th>High</th>\n",
       "      <th>Low</th>\n",
       "      <th>Close</th>\n",
       "      <th>Adj Close</th>\n",
       "      <th>Volume</th>\n",
       "      <th>Year</th>\n",
       "      <th>Month</th>\n",
       "      <th>Day</th>\n",
       "      <th>Weekday</th>\n",
       "      <th>Change %</th>\n",
       "      <th>Variation %</th>\n",
       "    </tr>\n",
       "  </thead>\n",
       "  <tbody>\n",
       "    <tr>\n",
       "      <th>0</th>\n",
       "      <td>2015-06-30</td>\n",
       "      <td>125.570000</td>\n",
       "      <td>126.120003</td>\n",
       "      <td>124.860001</td>\n",
       "      <td>125.430000</td>\n",
       "      <td>115.597382</td>\n",
       "      <td>44370700</td>\n",
       "      <td>2015</td>\n",
       "      <td>6</td>\n",
       "      <td>30</td>\n",
       "      <td>Tuesday</td>\n",
       "      <td>NaN</td>\n",
       "      <td>1.004546</td>\n",
       "    </tr>\n",
       "    <tr>\n",
       "      <th>1</th>\n",
       "      <td>2015-07-01</td>\n",
       "      <td>126.900002</td>\n",
       "      <td>126.940002</td>\n",
       "      <td>125.989998</td>\n",
       "      <td>126.599998</td>\n",
       "      <td>116.675667</td>\n",
       "      <td>30238800</td>\n",
       "      <td>2015</td>\n",
       "      <td>7</td>\n",
       "      <td>1</td>\n",
       "      <td>Wednesday</td>\n",
       "      <td>0.932794</td>\n",
       "      <td>0.750398</td>\n",
       "    </tr>\n",
       "    <tr>\n",
       "      <th>2</th>\n",
       "      <td>2015-07-02</td>\n",
       "      <td>126.430000</td>\n",
       "      <td>126.690002</td>\n",
       "      <td>125.769997</td>\n",
       "      <td>126.440002</td>\n",
       "      <td>116.528198</td>\n",
       "      <td>27211000</td>\n",
       "      <td>2015</td>\n",
       "      <td>7</td>\n",
       "      <td>2</td>\n",
       "      <td>Thursday</td>\n",
       "      <td>-0.126392</td>\n",
       "      <td>0.727622</td>\n",
       "    </tr>\n",
       "    <tr>\n",
       "      <th>3</th>\n",
       "      <td>2015-07-06</td>\n",
       "      <td>124.940002</td>\n",
       "      <td>126.230003</td>\n",
       "      <td>124.849998</td>\n",
       "      <td>126.000000</td>\n",
       "      <td>116.122704</td>\n",
       "      <td>28060400</td>\n",
       "      <td>2015</td>\n",
       "      <td>7</td>\n",
       "      <td>6</td>\n",
       "      <td>Monday</td>\n",
       "      <td>-0.347979</td>\n",
       "      <td>1.095242</td>\n",
       "    </tr>\n",
       "    <tr>\n",
       "      <th>4</th>\n",
       "      <td>2015-07-07</td>\n",
       "      <td>125.889999</td>\n",
       "      <td>126.150002</td>\n",
       "      <td>123.769997</td>\n",
       "      <td>125.690002</td>\n",
       "      <td>115.837006</td>\n",
       "      <td>46946800</td>\n",
       "      <td>2015</td>\n",
       "      <td>7</td>\n",
       "      <td>7</td>\n",
       "      <td>Tuesday</td>\n",
       "      <td>-0.246031</td>\n",
       "      <td>1.893552</td>\n",
       "    </tr>\n",
       "  </tbody>\n",
       "</table>\n",
       "</div>"
      ],
      "text/plain": [
       "        Date        Open        High         Low       Close   Adj Close  \\\n",
       "0 2015-06-30  125.570000  126.120003  124.860001  125.430000  115.597382   \n",
       "1 2015-07-01  126.900002  126.940002  125.989998  126.599998  116.675667   \n",
       "2 2015-07-02  126.430000  126.690002  125.769997  126.440002  116.528198   \n",
       "3 2015-07-06  124.940002  126.230003  124.849998  126.000000  116.122704   \n",
       "4 2015-07-07  125.889999  126.150002  123.769997  125.690002  115.837006   \n",
       "\n",
       "     Volume  Year  Month  Day    Weekday  Change %  Variation %  \n",
       "0  44370700  2015      6   30    Tuesday       NaN     1.004546  \n",
       "1  30238800  2015      7    1  Wednesday  0.932794     0.750398  \n",
       "2  27211000  2015      7    2   Thursday -0.126392     0.727622  \n",
       "3  28060400  2015      7    6     Monday -0.347979     1.095242  \n",
       "4  46946800  2015      7    7    Tuesday -0.246031     1.893552  "
      ]
     },
     "execution_count": 32,
     "metadata": {},
     "output_type": "execute_result"
    }
   ],
   "source": [
    "df_var = df.copy()\n",
    "df_var['Variation %'] = ((df_var['High']-df_var['Low'])/df_var['Close'])*100\n",
    "df_var.head()"
   ]
  },
  {
   "cell_type": "markdown",
   "metadata": {},
   "source": [
    "A final dataframe was created called `df_var_value`, which the same as `df_var` but with an additional column `Traded Value`, equal to:\n",
    "\n",
    "`Volume * Adj Close`"
   ]
  },
  {
   "cell_type": "code",
   "execution_count": 34,
   "metadata": {},
   "outputs": [
    {
     "data": {
      "text/html": [
       "<div>\n",
       "<style scoped>\n",
       "    .dataframe tbody tr th:only-of-type {\n",
       "        vertical-align: middle;\n",
       "    }\n",
       "\n",
       "    .dataframe tbody tr th {\n",
       "        vertical-align: top;\n",
       "    }\n",
       "\n",
       "    .dataframe thead th {\n",
       "        text-align: right;\n",
       "    }\n",
       "</style>\n",
       "<table border=\"1\" class=\"dataframe\">\n",
       "  <thead>\n",
       "    <tr style=\"text-align: right;\">\n",
       "      <th></th>\n",
       "      <th>Date</th>\n",
       "      <th>Open</th>\n",
       "      <th>High</th>\n",
       "      <th>Low</th>\n",
       "      <th>Close</th>\n",
       "      <th>Adj Close</th>\n",
       "      <th>Volume</th>\n",
       "      <th>Year</th>\n",
       "      <th>Month</th>\n",
       "      <th>Day</th>\n",
       "      <th>Weekday</th>\n",
       "      <th>Change %</th>\n",
       "      <th>Variation %</th>\n",
       "      <th>Traded Value</th>\n",
       "    </tr>\n",
       "  </thead>\n",
       "  <tbody>\n",
       "    <tr>\n",
       "      <th>0</th>\n",
       "      <td>2015-06-30</td>\n",
       "      <td>125.570000</td>\n",
       "      <td>126.120003</td>\n",
       "      <td>124.860001</td>\n",
       "      <td>125.430000</td>\n",
       "      <td>115.597382</td>\n",
       "      <td>44370700</td>\n",
       "      <td>2015</td>\n",
       "      <td>6</td>\n",
       "      <td>30</td>\n",
       "      <td>Tuesday</td>\n",
       "      <td>NaN</td>\n",
       "      <td>1.004546</td>\n",
       "      <td>5.129137e+09</td>\n",
       "    </tr>\n",
       "    <tr>\n",
       "      <th>1</th>\n",
       "      <td>2015-07-01</td>\n",
       "      <td>126.900002</td>\n",
       "      <td>126.940002</td>\n",
       "      <td>125.989998</td>\n",
       "      <td>126.599998</td>\n",
       "      <td>116.675667</td>\n",
       "      <td>30238800</td>\n",
       "      <td>2015</td>\n",
       "      <td>7</td>\n",
       "      <td>1</td>\n",
       "      <td>Wednesday</td>\n",
       "      <td>0.932794</td>\n",
       "      <td>0.750398</td>\n",
       "      <td>3.528132e+09</td>\n",
       "    </tr>\n",
       "    <tr>\n",
       "      <th>2</th>\n",
       "      <td>2015-07-02</td>\n",
       "      <td>126.430000</td>\n",
       "      <td>126.690002</td>\n",
       "      <td>125.769997</td>\n",
       "      <td>126.440002</td>\n",
       "      <td>116.528198</td>\n",
       "      <td>27211000</td>\n",
       "      <td>2015</td>\n",
       "      <td>7</td>\n",
       "      <td>2</td>\n",
       "      <td>Thursday</td>\n",
       "      <td>-0.126392</td>\n",
       "      <td>0.727622</td>\n",
       "      <td>3.170849e+09</td>\n",
       "    </tr>\n",
       "    <tr>\n",
       "      <th>3</th>\n",
       "      <td>2015-07-06</td>\n",
       "      <td>124.940002</td>\n",
       "      <td>126.230003</td>\n",
       "      <td>124.849998</td>\n",
       "      <td>126.000000</td>\n",
       "      <td>116.122704</td>\n",
       "      <td>28060400</td>\n",
       "      <td>2015</td>\n",
       "      <td>7</td>\n",
       "      <td>6</td>\n",
       "      <td>Monday</td>\n",
       "      <td>-0.347979</td>\n",
       "      <td>1.095242</td>\n",
       "      <td>3.258450e+09</td>\n",
       "    </tr>\n",
       "    <tr>\n",
       "      <th>4</th>\n",
       "      <td>2015-07-07</td>\n",
       "      <td>125.889999</td>\n",
       "      <td>126.150002</td>\n",
       "      <td>123.769997</td>\n",
       "      <td>125.690002</td>\n",
       "      <td>115.837006</td>\n",
       "      <td>46946800</td>\n",
       "      <td>2015</td>\n",
       "      <td>7</td>\n",
       "      <td>7</td>\n",
       "      <td>Tuesday</td>\n",
       "      <td>-0.246031</td>\n",
       "      <td>1.893552</td>\n",
       "      <td>5.438177e+09</td>\n",
       "    </tr>\n",
       "  </tbody>\n",
       "</table>\n",
       "</div>"
      ],
      "text/plain": [
       "        Date        Open        High         Low       Close   Adj Close  \\\n",
       "0 2015-06-30  125.570000  126.120003  124.860001  125.430000  115.597382   \n",
       "1 2015-07-01  126.900002  126.940002  125.989998  126.599998  116.675667   \n",
       "2 2015-07-02  126.430000  126.690002  125.769997  126.440002  116.528198   \n",
       "3 2015-07-06  124.940002  126.230003  124.849998  126.000000  116.122704   \n",
       "4 2015-07-07  125.889999  126.150002  123.769997  125.690002  115.837006   \n",
       "\n",
       "     Volume  Year  Month  Day    Weekday  Change %  Variation %  Traded Value  \n",
       "0  44370700  2015      6   30    Tuesday       NaN     1.004546  5.129137e+09  \n",
       "1  30238800  2015      7    1  Wednesday  0.932794     0.750398  3.528132e+09  \n",
       "2  27211000  2015      7    2   Thursday -0.126392     0.727622  3.170849e+09  \n",
       "3  28060400  2015      7    6     Monday -0.347979     1.095242  3.258450e+09  \n",
       "4  46946800  2015      7    7    Tuesday -0.246031     1.893552  5.438177e+09  "
      ]
     },
     "execution_count": 34,
     "metadata": {},
     "output_type": "execute_result"
    }
   ],
   "source": [
    "df_var_value = df_var.copy()\n",
    "df_var_value['Traded Value'] = df_var_value['Volume'] * df_var_value['Adj Close']\n",
    "df_var_value.head()"
   ]
  }
 ],
 "metadata": {
  "kernel_info": {
   "name": "python3"
  },
  "kernelspec": {
   "display_name": "Python 3 (ipykernel)",
   "language": "python",
   "name": "python3"
  },
  "language_info": {
   "codemirror_mode": {
    "name": "ipython",
    "version": 3
   },
   "file_extension": ".py",
   "mimetype": "text/x-python",
   "name": "python",
   "nbconvert_exporter": "python",
   "pygments_lexer": "ipython3",
   "version": "3.11.4"
  },
  "nteract": {
   "version": "0.15.0"
  }
 },
 "nbformat": 4,
 "nbformat_minor": 1
}
